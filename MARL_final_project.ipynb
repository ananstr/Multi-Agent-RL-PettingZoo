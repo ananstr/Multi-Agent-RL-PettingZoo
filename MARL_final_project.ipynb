{
  "cells": [
    {
      "cell_type": "code",
      "execution_count": 6,
      "metadata": {
        "id": "ep1F1GADD56C"
      },
      "outputs": [],
      "source": [
        "import warnings\n",
        "warnings.filterwarnings(\"ignore\", category=DeprecationWarning)\n",
        "warnings.filterwarnings(\"ignore\", category=UserWarning)\n",
        "\n",
        "import gymnasium as gym\n",
        "from pettingzoo.mpe import simple_spread_v3\n",
        "from pettingzoo.utils.conversions import aec_to_parallel\n",
        "from stable_baselines3 import PPO\n",
        "from stable_baselines3.common.vec_env import DummyVecEnv, VecMonitor\n",
        "from stable_baselines3.common.policies import ActorCriticPolicy\n",
        "import stable_baselines3.common.policies as policies_module\n",
        "import supersuit as ss\n",
        "import wandb\n",
        "import tensorboard\n",
        "import torch"
      ]
    },
    {
      "cell_type": "code",
      "execution_count": 4,
      "metadata": {
        "colab": {
          "base_uri": "https://localhost:8080/"
        },
        "id": "JC_f1s8ED9KW",
        "outputId": "8dcae095-d447-4cc6-b11f-cd67ad1c2ac0"
      },
      "outputs": [],
      "source": [
        "# create the PettingZoo environment\n",
        "env = simple_spread_v3.env(N=2, local_ratio=0.5, max_cycles=25, continuous_actions=False) # N=2 agents, 2 landmarks, partial global vs local reward mixing\n",
        "\n",
        "# Apply wrappers\n",
        "env = ss.black_death_v3(env)  # keeps a dummy agent alive when one is done\n",
        "env = ss.flatten_v0(env)      # flatten observations for SB3 compatibility\n",
        "env = aec_to_parallel(env)    # Convert AECEnv to ParallelEnv\n",
        "env = ss.pettingzoo_env_to_vec_env_v1(env)  # convert to vectorized env\n",
        "env = ss.concat_vec_envs_v1(env, 1, num_cpus=1, base_class=\"stable_baselines3\")  # Use SB3 base class\n",
        "env = VecMonitor(env)  # to record metrics easily"
      ]
    },
    {
      "cell_type": "code",
      "execution_count": 5,
      "metadata": {
        "colab": {
          "base_uri": "https://localhost:8080/",
          "height": 212
        },
        "id": "nIDS7hkVEHdu",
        "outputId": "b19c1d63-fcad-4abc-a8fe-5bb10622c9c5"
      },
      "outputs": [
        {
          "name": "stderr",
          "output_type": "stream",
          "text": [
            "\u001b[34m\u001b[1mwandb\u001b[0m: Currently logged in as: \u001b[33manastasiia-chernavskaia\u001b[0m (\u001b[33manastasiia-chernavskaia-barcelona-school-of-economics\u001b[0m) to \u001b[32mhttps://api.wandb.ai\u001b[0m. Use \u001b[1m`wandb login --relogin`\u001b[0m to force relogin\n"
          ]
        },
        {
          "data": {
            "text/html": [
              "Tracking run with wandb version 0.20.1"
            ],
            "text/plain": [
              "<IPython.core.display.HTML object>"
            ]
          },
          "metadata": {},
          "output_type": "display_data"
        },
        {
          "data": {
            "text/html": [
              "Run data is saved locally in <code>c:\\Users\\matia\\OneDrive\\Escritorio\\Nastia_BSE\\RL\\wandb\\run-20250622_131029-7zkzwly7</code>"
            ],
            "text/plain": [
              "<IPython.core.display.HTML object>"
            ]
          },
          "metadata": {},
          "output_type": "display_data"
        },
        {
          "data": {
            "text/html": [
              "Syncing run <strong><a href='https://wandb.ai/anastasiia-chernavskaia-barcelona-school-of-economics/marl-coordination-demo/runs/7zkzwly7' target=\"_blank\">PPO-simple-spread</a></strong> to <a href='https://wandb.ai/anastasiia-chernavskaia-barcelona-school-of-economics/marl-coordination-demo' target=\"_blank\">Weights & Biases</a> (<a href='https://wandb.me/developer-guide' target=\"_blank\">docs</a>)<br>"
            ],
            "text/plain": [
              "<IPython.core.display.HTML object>"
            ]
          },
          "metadata": {},
          "output_type": "display_data"
        },
        {
          "data": {
            "text/html": [
              " View project at <a href='https://wandb.ai/anastasiia-chernavskaia-barcelona-school-of-economics/marl-coordination-demo' target=\"_blank\">https://wandb.ai/anastasiia-chernavskaia-barcelona-school-of-economics/marl-coordination-demo</a>"
            ],
            "text/plain": [
              "<IPython.core.display.HTML object>"
            ]
          },
          "metadata": {},
          "output_type": "display_data"
        },
        {
          "data": {
            "text/html": [
              " View run at <a href='https://wandb.ai/anastasiia-chernavskaia-barcelona-school-of-economics/marl-coordination-demo/runs/7zkzwly7' target=\"_blank\">https://wandb.ai/anastasiia-chernavskaia-barcelona-school-of-economics/marl-coordination-demo/runs/7zkzwly7</a>"
            ],
            "text/plain": [
              "<IPython.core.display.HTML object>"
            ]
          },
          "metadata": {},
          "output_type": "display_data"
        },
        {
          "data": {
            "text/html": [
              "<button onClick=\"this.nextSibling.style.display='block';this.style.display='none';\">Display W&B run</button><iframe src='https://wandb.ai/anastasiia-chernavskaia-barcelona-school-of-economics/marl-coordination-demo/runs/7zkzwly7?jupyter=true' style='border:none;width:100%;height:420px;display:none;'></iframe>"
            ],
            "text/plain": [
              "<wandb.sdk.wandb_run.Run at 0x209219ca470>"
            ]
          },
          "execution_count": 5,
          "metadata": {},
          "output_type": "execute_result"
        }
      ],
      "source": [
        "# first get your API key from wandb.ai (or we can all use mine)\n",
        "wandb.init(project=\"marl-coordination-demo\", name=\"PPO-simple-spread\", sync_tensorboard=True)"
      ]
    },
    {
      "cell_type": "code",
      "execution_count": 7,
      "metadata": {
        "colab": {
          "base_uri": "https://localhost:8080/",
          "height": 373
        },
        "id": "8WmVrf48FLep",
        "outputId": "6a74252f-768a-4343-c68b-a18cbee0bae1"
      },
      "outputs": [
        {
          "name": "stdout",
          "output_type": "stream",
          "text": [
            "Using cuda device\n",
            "Logging to ./ppo_marl_tb/PPO_11\n",
            "---------------------------------\n",
            "| rollout/           |          |\n",
            "|    ep_len_mean     | 26       |\n",
            "|    ep_rew_mean     | -21.3    |\n",
            "| time/              |          |\n",
            "|    fps             | 1037     |\n",
            "|    iterations      | 1        |\n",
            "|    time_elapsed    | 3        |\n",
            "|    total_timesteps | 4096     |\n",
            "---------------------------------\n",
            "------------------------------------------\n",
            "| rollout/                |              |\n",
            "|    ep_len_mean          | 26           |\n",
            "|    ep_rew_mean          | -20.4        |\n",
            "| time/                   |              |\n",
            "|    fps                  | 712          |\n",
            "|    iterations           | 2            |\n",
            "|    time_elapsed         | 11           |\n",
            "|    total_timesteps      | 8192         |\n",
            "| train/                  |              |\n",
            "|    approx_kl            | 0.0059424946 |\n",
            "|    clip_fraction        | 0.0276       |\n",
            "|    clip_range           | 0.2          |\n",
            "|    entropy_loss         | -1.61        |\n",
            "|    explained_variance   | -0.00844     |\n",
            "|    learning_rate        | 0.0003       |\n",
            "|    loss                 | 8.23         |\n",
            "|    n_updates            | 10           |\n",
            "|    policy_gradient_loss | -0.00655     |\n",
            "|    value_loss           | 26.9         |\n",
            "------------------------------------------\n",
            "-----------------------------------------\n",
            "| rollout/                |             |\n",
            "|    ep_len_mean          | 26          |\n",
            "|    ep_rew_mean          | -20.1       |\n",
            "| time/                   |             |\n",
            "|    fps                  | 652         |\n",
            "|    iterations           | 3           |\n",
            "|    time_elapsed         | 18          |\n",
            "|    total_timesteps      | 12288       |\n",
            "| train/                  |             |\n",
            "|    approx_kl            | 0.005947586 |\n",
            "|    clip_fraction        | 0.0313      |\n",
            "|    clip_range           | 0.2         |\n",
            "|    entropy_loss         | -1.6        |\n",
            "|    explained_variance   | 0.0295      |\n",
            "|    learning_rate        | 0.0003      |\n",
            "|    loss                 | 11.3        |\n",
            "|    n_updates            | 20          |\n",
            "|    policy_gradient_loss | -0.00859    |\n",
            "|    value_loss           | 25          |\n",
            "-----------------------------------------\n",
            "------------------------------------------\n",
            "| rollout/                |              |\n",
            "|    ep_len_mean          | 26           |\n",
            "|    ep_rew_mean          | -19          |\n",
            "| time/                   |              |\n",
            "|    fps                  | 630          |\n",
            "|    iterations           | 4            |\n",
            "|    time_elapsed         | 26           |\n",
            "|    total_timesteps      | 16384        |\n",
            "| train/                  |              |\n",
            "|    approx_kl            | 0.0069490485 |\n",
            "|    clip_fraction        | 0.0514       |\n",
            "|    clip_range           | 0.2          |\n",
            "|    entropy_loss         | -1.59        |\n",
            "|    explained_variance   | 0.0799       |\n",
            "|    learning_rate        | 0.0003       |\n",
            "|    loss                 | 15           |\n",
            "|    n_updates            | 30           |\n",
            "|    policy_gradient_loss | -0.00978     |\n",
            "|    value_loss           | 26.9         |\n",
            "------------------------------------------\n",
            "-----------------------------------------\n",
            "| rollout/                |             |\n",
            "|    ep_len_mean          | 26          |\n",
            "|    ep_rew_mean          | -17.9       |\n",
            "| time/                   |             |\n",
            "|    fps                  | 621         |\n",
            "|    iterations           | 5           |\n",
            "|    time_elapsed         | 32          |\n",
            "|    total_timesteps      | 20480       |\n",
            "| train/                  |             |\n",
            "|    approx_kl            | 0.006124584 |\n",
            "|    clip_fraction        | 0.0378      |\n",
            "|    clip_range           | 0.2         |\n",
            "|    entropy_loss         | -1.58       |\n",
            "|    explained_variance   | 0.141       |\n",
            "|    learning_rate        | 0.0003      |\n",
            "|    loss                 | 10.5        |\n",
            "|    n_updates            | 40          |\n",
            "|    policy_gradient_loss | -0.00908    |\n",
            "|    value_loss           | 24          |\n",
            "-----------------------------------------\n",
            "------------------------------------------\n",
            "| rollout/                |              |\n",
            "|    ep_len_mean          | 26           |\n",
            "|    ep_rew_mean          | -18.9        |\n",
            "| time/                   |              |\n",
            "|    fps                  | 614          |\n",
            "|    iterations           | 6            |\n",
            "|    time_elapsed         | 40           |\n",
            "|    total_timesteps      | 24576        |\n",
            "| train/                  |              |\n",
            "|    approx_kl            | 0.0059377407 |\n",
            "|    clip_fraction        | 0.0384       |\n",
            "|    clip_range           | 0.2          |\n",
            "|    entropy_loss         | -1.57        |\n",
            "|    explained_variance   | 0.261        |\n",
            "|    learning_rate        | 0.0003       |\n",
            "|    loss                 | 10.3         |\n",
            "|    n_updates            | 50           |\n",
            "|    policy_gradient_loss | -0.00805     |\n",
            "|    value_loss           | 20.6         |\n",
            "------------------------------------------\n",
            "------------------------------------------\n",
            "| rollout/                |              |\n",
            "|    ep_len_mean          | 26           |\n",
            "|    ep_rew_mean          | -18.2        |\n",
            "| time/                   |              |\n",
            "|    fps                  | 607          |\n",
            "|    iterations           | 7            |\n",
            "|    time_elapsed         | 47           |\n",
            "|    total_timesteps      | 28672        |\n",
            "| train/                  |              |\n",
            "|    approx_kl            | 0.0075868303 |\n",
            "|    clip_fraction        | 0.0558       |\n",
            "|    clip_range           | 0.2          |\n",
            "|    entropy_loss         | -1.55        |\n",
            "|    explained_variance   | 0.284        |\n",
            "|    learning_rate        | 0.0003       |\n",
            "|    loss                 | 11.6         |\n",
            "|    n_updates            | 60           |\n",
            "|    policy_gradient_loss | -0.0105      |\n",
            "|    value_loss           | 22.4         |\n",
            "------------------------------------------\n",
            "-----------------------------------------\n",
            "| rollout/                |             |\n",
            "|    ep_len_mean          | 26          |\n",
            "|    ep_rew_mean          | -16.7       |\n",
            "| time/                   |             |\n",
            "|    fps                  | 606         |\n",
            "|    iterations           | 8           |\n",
            "|    time_elapsed         | 53          |\n",
            "|    total_timesteps      | 32768       |\n",
            "| train/                  |             |\n",
            "|    approx_kl            | 0.009357197 |\n",
            "|    clip_fraction        | 0.0817      |\n",
            "|    clip_range           | 0.2         |\n",
            "|    entropy_loss         | -1.52       |\n",
            "|    explained_variance   | 0.297       |\n",
            "|    learning_rate        | 0.0003      |\n",
            "|    loss                 | 9.18        |\n",
            "|    n_updates            | 70          |\n",
            "|    policy_gradient_loss | -0.0142     |\n",
            "|    value_loss           | 20.4        |\n",
            "-----------------------------------------\n",
            "-----------------------------------------\n",
            "| rollout/                |             |\n",
            "|    ep_len_mean          | 26          |\n",
            "|    ep_rew_mean          | -15.3       |\n",
            "| time/                   |             |\n",
            "|    fps                  | 598         |\n",
            "|    iterations           | 9           |\n",
            "|    time_elapsed         | 61          |\n",
            "|    total_timesteps      | 36864       |\n",
            "| train/                  |             |\n",
            "|    approx_kl            | 0.008003087 |\n",
            "|    clip_fraction        | 0.0752      |\n",
            "|    clip_range           | 0.2         |\n",
            "|    entropy_loss         | -1.51       |\n",
            "|    explained_variance   | 0.386       |\n",
            "|    learning_rate        | 0.0003      |\n",
            "|    loss                 | 7.74        |\n",
            "|    n_updates            | 80          |\n",
            "|    policy_gradient_loss | -0.0127     |\n",
            "|    value_loss           | 15.3        |\n",
            "-----------------------------------------\n",
            "------------------------------------------\n",
            "| rollout/                |              |\n",
            "|    ep_len_mean          | 26           |\n",
            "|    ep_rew_mean          | -15.2        |\n",
            "| time/                   |              |\n",
            "|    fps                  | 594          |\n",
            "|    iterations           | 10           |\n",
            "|    time_elapsed         | 68           |\n",
            "|    total_timesteps      | 40960        |\n",
            "| train/                  |              |\n",
            "|    approx_kl            | 0.0067953346 |\n",
            "|    clip_fraction        | 0.0469       |\n",
            "|    clip_range           | 0.2          |\n",
            "|    entropy_loss         | -1.5         |\n",
            "|    explained_variance   | 0.449        |\n",
            "|    learning_rate        | 0.0003       |\n",
            "|    loss                 | 6.24         |\n",
            "|    n_updates            | 90           |\n",
            "|    policy_gradient_loss | -0.00979     |\n",
            "|    value_loss           | 12.8         |\n",
            "------------------------------------------\n",
            "-----------------------------------------\n",
            "| rollout/                |             |\n",
            "|    ep_len_mean          | 26          |\n",
            "|    ep_rew_mean          | -15.3       |\n",
            "| time/                   |             |\n",
            "|    fps                  | 591         |\n",
            "|    iterations           | 11          |\n",
            "|    time_elapsed         | 76          |\n",
            "|    total_timesteps      | 45056       |\n",
            "| train/                  |             |\n",
            "|    approx_kl            | 0.008406544 |\n",
            "|    clip_fraction        | 0.0816      |\n",
            "|    clip_range           | 0.2         |\n",
            "|    entropy_loss         | -1.48       |\n",
            "|    explained_variance   | 0.462       |\n",
            "|    learning_rate        | 0.0003      |\n",
            "|    loss                 | 4.97        |\n",
            "|    n_updates            | 100         |\n",
            "|    policy_gradient_loss | -0.012      |\n",
            "|    value_loss           | 10.4        |\n",
            "-----------------------------------------\n",
            "-----------------------------------------\n",
            "| rollout/                |             |\n",
            "|    ep_len_mean          | 26          |\n",
            "|    ep_rew_mean          | -15.3       |\n",
            "| time/                   |             |\n",
            "|    fps                  | 586         |\n",
            "|    iterations           | 12          |\n",
            "|    time_elapsed         | 83          |\n",
            "|    total_timesteps      | 49152       |\n",
            "| train/                  |             |\n",
            "|    approx_kl            | 0.006585627 |\n",
            "|    clip_fraction        | 0.0506      |\n",
            "|    clip_range           | 0.2         |\n",
            "|    entropy_loss         | -1.47       |\n",
            "|    explained_variance   | 0.479       |\n",
            "|    learning_rate        | 0.0003      |\n",
            "|    loss                 | 4.95        |\n",
            "|    n_updates            | 110         |\n",
            "|    policy_gradient_loss | -0.0105     |\n",
            "|    value_loss           | 10.6        |\n",
            "-----------------------------------------\n",
            "---------------------------------------\n",
            "| rollout/                |           |\n",
            "|    ep_len_mean          | 26        |\n",
            "|    ep_rew_mean          | -14.8     |\n",
            "| time/                   |           |\n",
            "|    fps                  | 578       |\n",
            "|    iterations           | 13        |\n",
            "|    time_elapsed         | 92        |\n",
            "|    total_timesteps      | 53248     |\n",
            "| train/                  |           |\n",
            "|    approx_kl            | 0.0081986 |\n",
            "|    clip_fraction        | 0.0647    |\n",
            "|    clip_range           | 0.2       |\n",
            "|    entropy_loss         | -1.45     |\n",
            "|    explained_variance   | 0.493     |\n",
            "|    learning_rate        | 0.0003    |\n",
            "|    loss                 | 3.47      |\n",
            "|    n_updates            | 120       |\n",
            "|    policy_gradient_loss | -0.0106   |\n",
            "|    value_loss           | 8.46      |\n",
            "---------------------------------------\n"
          ]
        },
        {
          "data": {
            "text/html": [],
            "text/plain": [
              "<IPython.core.display.HTML object>"
            ]
          },
          "metadata": {},
          "output_type": "display_data"
        },
        {
          "data": {
            "text/html": [
              "<br>    <style><br>        .wandb-row {<br>            display: flex;<br>            flex-direction: row;<br>            flex-wrap: wrap;<br>            justify-content: flex-start;<br>            width: 100%;<br>        }<br>        .wandb-col {<br>            display: flex;<br>            flex-direction: column;<br>            flex-basis: 100%;<br>            flex: 1;<br>            padding: 10px;<br>        }<br>    </style><br><div class=\"wandb-row\"><div class=\"wandb-col\"><h3>Run history:</h3><br/><table class=\"wandb\"><tr><td>global_step</td><td>▁▁▁▁▁▁▁▂▂▂▂▂▂▂▂▃▃▃▃▃▄▄▄▄▄▄▅▅▅▅▆▆▆▇▇▇████</td></tr><tr><td>rollout/ep_len_mean</td><td>▁▁▁▁▁▁▁▁▁▁▁▁▁</td></tr><tr><td>rollout/ep_rew_mean</td><td>▁▂▂▄▅▄▄▆▇█▇▇█</td></tr><tr><td>time/fps</td><td>█▃▂▂▂▂▁▁▁▁▁▁▁</td></tr><tr><td>train/approx_kl</td><td>▁▁▃▁▁▄█▅▃▆▂▆</td></tr><tr><td>train/clip_fraction</td><td>▁▁▄▂▂▅█▇▄█▄▆</td></tr><tr><td>train/clip_range</td><td>▁▁▁▁▁▁▁▁▁▁▁▁</td></tr><tr><td>train/entropy_loss</td><td>▁▁▂▂▃▄▅▅▆▇▇█</td></tr><tr><td>train/explained_variance</td><td>▁▂▂▃▅▅▅▇▇███</td></tr><tr><td>train/learning_rate</td><td>▁▁▁▁▁▁▁▁▁▁▁▁</td></tr><tr><td>train/loss</td><td>▄▆█▅▅▆▄▄▃▂▂▁</td></tr><tr><td>train/policy_gradient_loss</td><td>█▆▅▆▇▄▁▂▅▃▄▄</td></tr><tr><td>train/value_loss</td><td>█▇█▇▆▆▆▄▃▂▂▁</td></tr></table><br/></div><div class=\"wandb-col\"><h3>Run summary:</h3><br/><table class=\"wandb\"><tr><td>global_step</td><td>53248</td></tr><tr><td>rollout/ep_len_mean</td><td>26</td></tr><tr><td>rollout/ep_rew_mean</td><td>-14.7733</td></tr><tr><td>time/fps</td><td>578</td></tr><tr><td>train/approx_kl</td><td>0.0082</td></tr><tr><td>train/clip_fraction</td><td>0.06472</td></tr><tr><td>train/clip_range</td><td>0.2</td></tr><tr><td>train/entropy_loss</td><td>-1.44669</td></tr><tr><td>train/explained_variance</td><td>0.49282</td></tr><tr><td>train/learning_rate</td><td>0.0003</td></tr><tr><td>train/loss</td><td>3.46922</td></tr><tr><td>train/policy_gradient_loss</td><td>-0.01065</td></tr><tr><td>train/value_loss</td><td>8.45766</td></tr></table><br/></div></div>"
            ],
            "text/plain": [
              "<IPython.core.display.HTML object>"
            ]
          },
          "metadata": {},
          "output_type": "display_data"
        },
        {
          "data": {
            "text/html": [
              " View run <strong style=\"color:#cdcd00\">PPO-simple-spread</strong> at: <a href='https://wandb.ai/anastasiia-chernavskaia-barcelona-school-of-economics/marl-coordination-demo/runs/7zkzwly7' target=\"_blank\">https://wandb.ai/anastasiia-chernavskaia-barcelona-school-of-economics/marl-coordination-demo/runs/7zkzwly7</a><br> View project at: <a href='https://wandb.ai/anastasiia-chernavskaia-barcelona-school-of-economics/marl-coordination-demo' target=\"_blank\">https://wandb.ai/anastasiia-chernavskaia-barcelona-school-of-economics/marl-coordination-demo</a><br>Synced 5 W&B file(s), 0 media file(s), 0 artifact file(s) and 0 other file(s)"
            ],
            "text/plain": [
              "<IPython.core.display.HTML object>"
            ]
          },
          "metadata": {},
          "output_type": "display_data"
        },
        {
          "data": {
            "text/html": [
              "Find logs at: <code>.\\wandb\\run-20250622_131029-7zkzwly7\\logs</code>"
            ],
            "text/plain": [
              "<IPython.core.display.HTML object>"
            ]
          },
          "metadata": {},
          "output_type": "display_data"
        }
      ],
      "source": [
        "policy_kwargs = dict(\n",
        "    net_arch=[64, 64],  # Simplified MLP architecture\n",
        "    activation_fn=torch.nn.ReLU\n",
        ")\n",
        "\n",
        "model = PPO(ActorCriticPolicy, env, verbose=1, tensorboard_log=\"./ppo_marl_tb/\", policy_kwargs=policy_kwargs)\n",
        "model.learn(total_timesteps=50000)  # train for 50k timesteps\n",
        "model.save(\"ppo_marl_simple_spread\")\n",
        "wandb.finish()"
      ]
    }
  ],
  "metadata": {
    "colab": {
      "provenance": []
    },
    "kernelspec": {
      "display_name": "rl",
      "language": "python",
      "name": "python3"
    },
    "language_info": {
      "codemirror_mode": {
        "name": "ipython",
        "version": 3
      },
      "file_extension": ".py",
      "mimetype": "text/x-python",
      "name": "python",
      "nbconvert_exporter": "python",
      "pygments_lexer": "ipython3",
      "version": "3.10.18"
    }
  },
  "nbformat": 4,
  "nbformat_minor": 0
}
